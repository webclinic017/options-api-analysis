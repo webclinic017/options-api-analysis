{
 "cells": [
  {
   "cell_type": "code",
   "execution_count": 1,
   "metadata": {},
   "outputs": [],
   "source": [
    "import yfinance as yf\n",
    "import pandas as pd\n",
    "import matplotlib.pyplot as plt"
   ]
  },
  {
   "cell_type": "code",
   "execution_count": 2,
   "metadata": {},
   "outputs": [],
   "source": [
    "# raw data\n",
    "stock = yf.Ticker(\"TSLA\")\n",
    "option_dates = stock.options\n",
    "\n",
    "# empty dataframe to fill with processed data\n",
    "df = pd.DataFrame(columns = ['strike', 'lastPrice', 'months_left'])"
   ]
  },
  {
   "cell_type": "code",
   "execution_count": 4,
   "metadata": {},
   "outputs": [],
   "source": [
    "# iterate over each date, add its data to the df\n",
    "\n",
    "for date in option_dates:\n",
    "    \n",
    "    daily = stock.option_chain(date)\n",
    "    daily_chain = daily.puts # data for calls is stored separately\n",
    "    \n",
    "    daily_chain['months_left'] = (int(date[0:4])-2021)*12 + int(date[5:7]) + int(date[8:11])/30  # convert expiry date to a number for graphing\n",
    "                                                                                                 # (ie, number of days from jan 1 2021)\n",
    "    daily_chain = daily_chain[['strike', 'lastPrice', 'months_left']] # drop unused columns\n",
    "    \n",
    "    df = df.append(daily_chain)"
   ]
  },
  {
   "cell_type": "code",
   "execution_count": 5,
   "metadata": {},
   "outputs": [
    {
     "data": {
      "text/html": [
       "<div>\n",
       "<style scoped>\n",
       "    .dataframe tbody tr th:only-of-type {\n",
       "        vertical-align: middle;\n",
       "    }\n",
       "\n",
       "    .dataframe tbody tr th {\n",
       "        vertical-align: top;\n",
       "    }\n",
       "\n",
       "    .dataframe thead th {\n",
       "        text-align: right;\n",
       "    }\n",
       "</style>\n",
       "<table border=\"1\" class=\"dataframe\">\n",
       "  <thead>\n",
       "    <tr style=\"text-align: right;\">\n",
       "      <th></th>\n",
       "      <th>strike</th>\n",
       "      <th>lastPrice</th>\n",
       "      <th>months_left</th>\n",
       "    </tr>\n",
       "  </thead>\n",
       "  <tbody>\n",
       "    <tr>\n",
       "      <th>0</th>\n",
       "      <td>100.0</td>\n",
       "      <td>0.01</td>\n",
       "      <td>9.100000</td>\n",
       "    </tr>\n",
       "    <tr>\n",
       "      <th>1</th>\n",
       "      <td>200.0</td>\n",
       "      <td>0.01</td>\n",
       "      <td>9.100000</td>\n",
       "    </tr>\n",
       "    <tr>\n",
       "      <th>2</th>\n",
       "      <td>300.0</td>\n",
       "      <td>0.01</td>\n",
       "      <td>9.100000</td>\n",
       "    </tr>\n",
       "    <tr>\n",
       "      <th>3</th>\n",
       "      <td>400.0</td>\n",
       "      <td>0.04</td>\n",
       "      <td>9.100000</td>\n",
       "    </tr>\n",
       "    <tr>\n",
       "      <th>4</th>\n",
       "      <td>410.0</td>\n",
       "      <td>0.05</td>\n",
       "      <td>9.100000</td>\n",
       "    </tr>\n",
       "    <tr>\n",
       "      <th>...</th>\n",
       "      <td>...</td>\n",
       "      <td>...</td>\n",
       "      <td>...</td>\n",
       "    </tr>\n",
       "    <tr>\n",
       "      <th>37</th>\n",
       "      <td>1250.0</td>\n",
       "      <td>585.50</td>\n",
       "      <td>30.533333</td>\n",
       "    </tr>\n",
       "    <tr>\n",
       "      <th>38</th>\n",
       "      <td>1300.0</td>\n",
       "      <td>628.11</td>\n",
       "      <td>30.533333</td>\n",
       "    </tr>\n",
       "    <tr>\n",
       "      <th>39</th>\n",
       "      <td>1350.0</td>\n",
       "      <td>673.44</td>\n",
       "      <td>30.533333</td>\n",
       "    </tr>\n",
       "    <tr>\n",
       "      <th>40</th>\n",
       "      <td>1400.0</td>\n",
       "      <td>723.00</td>\n",
       "      <td>30.533333</td>\n",
       "    </tr>\n",
       "    <tr>\n",
       "      <th>41</th>\n",
       "      <td>1450.0</td>\n",
       "      <td>764.50</td>\n",
       "      <td>30.533333</td>\n",
       "    </tr>\n",
       "  </tbody>\n",
       "</table>\n",
       "<p>2871 rows × 3 columns</p>\n",
       "</div>"
      ],
      "text/plain": [
       "    strike  lastPrice  months_left\n",
       "0    100.0       0.01     9.100000\n",
       "1    200.0       0.01     9.100000\n",
       "2    300.0       0.01     9.100000\n",
       "3    400.0       0.04     9.100000\n",
       "4    410.0       0.05     9.100000\n",
       "..     ...        ...          ...\n",
       "37  1250.0     585.50    30.533333\n",
       "38  1300.0     628.11    30.533333\n",
       "39  1350.0     673.44    30.533333\n",
       "40  1400.0     723.00    30.533333\n",
       "41  1450.0     764.50    30.533333\n",
       "\n",
       "[2871 rows x 3 columns]"
      ]
     },
     "execution_count": 5,
     "metadata": {},
     "output_type": "execute_result"
    }
   ],
   "source": [
    "df # visually check processing"
   ]
  },
  {
   "cell_type": "code",
   "execution_count": 13,
   "metadata": {},
   "outputs": [
    {
     "data": {
      "text/plain": [
       "<matplotlib.legend.Legend at 0x19a90e05430>"
      ]
     },
     "execution_count": 13,
     "metadata": {},
     "output_type": "execute_result"
    },
    {
     "data": {
      "image/png": "[encoded data removed]",
      "text/plain": [
       "<Figure size 432x288 with 1 Axes>"
      ]
     },
     "metadata": {
      "needs_background": "light"
     },
     "output_type": "display_data"
    }
   ],
   "source": [
    "# plot option-cost/expiry-time for two different strike prices\n",
    "\n",
    "ax = df.query('strike == 250.0').plot(x='months_left', y = 'lastPrice')\n",
    "df.query('strike == 300.0').plot(x='months_left', y = 'lastPrice', color = 'red', ax = ax)\n",
    "\n",
    "ax.legend([\"strike = 250.0\", \"strike = 300.0\"])"
   ]
  },
  {
   "cell_type": "code",
   "execution_count": null,
   "metadata": {},
   "outputs": [],
   "source": []
  }
 ],
 "metadata": {
  "kernelspec": {
   "display_name": "Python 3",
   "language": "python",
   "name": "python3"
  },
  "language_info": {
   "codemirror_mode": {
    "name": "ipython",
    "version": 3
   },
   "file_extension": ".py",
   "mimetype": "text/x-python",
   "name": "python",
   "nbconvert_exporter": "python",
   "pygments_lexer": "ipython3",
   "version": "3.8.6"
  }
 },
 "nbformat": 4,
 "nbformat_minor": 4
}
